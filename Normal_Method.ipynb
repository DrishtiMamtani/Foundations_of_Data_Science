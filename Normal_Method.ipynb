{
 "cells": [
  {
   "cell_type": "code",
   "execution_count": 106,
   "metadata": {},
   "outputs": [
    {
     "name": "stdout",
     "output_type": "stream",
     "text": [
      "[681.34825732   4.52127649 -12.31770487]\n"
     ]
    }
   ],
   "source": [
    "import pandas as pd \n",
    "import numpy as np\n",
    "from sklearn import preprocessing\n",
    "from numpy.linalg import inv\n",
    "data=pd.read_excel(\"Data.xlsx\",header=None)\n",
    "X=data[[0,1]]\n",
    "y=data[2]\n",
    "from sklearn.model_selection import train_test_split \n",
    "x_train, x_test, y_train, y_test = train_test_split(X, y, test_size=0.3, random_state=1) \n",
    "x_train.reset_index(inplace = True, drop = True) \n",
    "x_test.reset_index(inplace = True, drop = True) \n",
    "y_train.reset_index(inplace = True, drop = True) \n",
    "y_test.reset_index(inplace = True, drop = True) \n",
    "n=x_train[0].count()\n",
    "sum_x1=0\n",
    "sum_x2=0\n",
    "sum_y1=0\n",
    "sum_x1x1=0\n",
    "sum_x1x2=0\n",
    "sum_x2x2=0\n",
    "sum_x1y1=0\n",
    "sum_x2y1=0\n",
    "for i in range(0,n):\n",
    "    sum_x1=sum_x1+x_train[0][i]\n",
    "    sum_x2=sum_x2+x_train[1][i]\n",
    "    sum_y1=sum_y1+y_train[i]\n",
    "    sum_x1x1=sum_x1x1+x_train[0][i]*x_train[0][i]\n",
    "    sum_x1x2=sum_x1x2+x_train[0][i]*x_train[1][i]\n",
    "    sum_x2x2=sum_x2x2+x_train[1][i]*x_train[1][i]\n",
    "    sum_x1y1=sum_x1y1+x_train[0][i]*y_train[i]\n",
    "    sum_x2y1=sum_x2y1+x_train[1][i]*y_train[i]\n",
    "A = np.array([[n, sum_x1, sum_x2], [sum_x1, sum_x1x1, sum_x1x2],[sum_x2,sum_x1x2,sum_x2x2]])\n",
    "B=np.array([sum_y1, sum_x1y1, sum_x2y1])\n",
    "Inverse=inv(A)\n",
    "w0=Inverse[0][0]*B[0]+Inverse[0][1]*B[1]+Inverse[0][2]*B[2]\n",
    "w1=Inverse[1][0]*B[0]+Inverse[1][1]*B[1]+Inverse[1][2]*B[2]\n",
    "w2=Inverse[2][0]*B[0]+Inverse[2][1]*B[1]+Inverse[2][2]*B[2]\n",
    "W=np.array([w0,w1,w2])\n",
    "print(W)\n",
    "\n",
    "    "
   ]
  },
  {
   "cell_type": "code",
   "execution_count": 107,
   "metadata": {},
   "outputs": [
    {
     "data": {
      "text/plain": [
       "array([[1, 0, 0],\n",
       "       [0, 1, 0],\n",
       "       [0, 0, 1]])"
      ]
     },
     "execution_count": 107,
     "metadata": {},
     "output_type": "execute_result"
    }
   ],
   "source": [
    "np.around(Inverse @ A).astype(int)"
   ]
  },
  {
   "cell_type": "code",
   "execution_count": 109,
   "metadata": {},
   "outputs": [],
   "source": [
    "dEbydw0=A[0][0]*w0+A[0][1]*w1+A[0][2]*w2-sum_y1"
   ]
  },
  {
   "cell_type": "code",
   "execution_count": 113,
   "metadata": {},
   "outputs": [
    {
     "data": {
      "text/plain": [
       "0.0"
      ]
     },
     "execution_count": 113,
     "metadata": {},
     "output_type": "execute_result"
    }
   ],
   "source": [
    "abs(np.around(dEbydw0))"
   ]
  },
  {
   "cell_type": "code",
   "execution_count": 111,
   "metadata": {},
   "outputs": [],
   "source": [
    "dEbydw1=A[1][0]*w0+A[1][1]*w1+A[1][2]*w2-sum_x1y1"
   ]
  },
  {
   "cell_type": "code",
   "execution_count": 114,
   "metadata": {},
   "outputs": [
    {
     "data": {
      "text/plain": [
       "0.0"
      ]
     },
     "execution_count": 114,
     "metadata": {},
     "output_type": "execute_result"
    }
   ],
   "source": [
    "abs(np.around(dEbydw1))"
   ]
  },
  {
   "cell_type": "code",
   "execution_count": 115,
   "metadata": {},
   "outputs": [],
   "source": [
    "dEbydw2=A[2][0]*w0+A[2][1]*w1+A[2][2]*w2-sum_x2y1"
   ]
  },
  {
   "cell_type": "code",
   "execution_count": 116,
   "metadata": {},
   "outputs": [
    {
     "data": {
      "text/plain": [
       "0.0"
      ]
     },
     "execution_count": 116,
     "metadata": {},
     "output_type": "execute_result"
    }
   ],
   "source": [
    "abs(np.around(dEbydw2))"
   ]
  },
  {
   "cell_type": "code",
   "execution_count": 117,
   "metadata": {},
   "outputs": [],
   "source": [
    "from sklearn.linear_model import LinearRegression\n",
    "reg = LinearRegression().fit(x_train, y_train)"
   ]
  },
  {
   "cell_type": "code",
   "execution_count": 118,
   "metadata": {},
   "outputs": [
    {
     "data": {
      "text/plain": [
       "array([  4.52127649, -12.31770488])"
      ]
     },
     "execution_count": 118,
     "metadata": {},
     "output_type": "execute_result"
    }
   ],
   "source": [
    "reg.coef_"
   ]
  },
  {
   "cell_type": "code",
   "execution_count": 119,
   "metadata": {},
   "outputs": [
    {
     "data": {
      "text/plain": [
       "681.3482577091703"
      ]
     },
     "execution_count": 119,
     "metadata": {},
     "output_type": "execute_result"
    }
   ],
   "source": [
    "reg.intercept_"
   ]
  },
  {
   "cell_type": "code",
   "execution_count": 127,
   "metadata": {},
   "outputs": [
    {
     "name": "stdout",
     "output_type": "stream",
     "text": [
      "0         6.501763e+10\n",
      "1         6.374888e+10\n",
      "2         6.270048e+10\n",
      "3         6.226479e+10\n",
      "4         6.194668e+10\n",
      "5         6.040248e+10\n",
      "6         5.938875e+10\n",
      "7         5.932123e+10\n",
      "8         5.923860e+10\n",
      "9         5.960563e+10\n",
      "10        6.017257e+10\n",
      "11        6.236769e+10\n",
      "12        6.378058e+10\n",
      "13        6.368287e+10\n",
      "14        6.200366e+10\n",
      "15        6.097351e+10\n",
      "16        6.233589e+10\n",
      "17        6.284240e+10\n",
      "18        6.216988e+10\n",
      "19        3.557365e+10\n",
      "20        4.144158e+10\n",
      "21        4.908732e+10\n",
      "22        5.486297e+10\n",
      "23        6.503733e+10\n",
      "24        6.527221e+10\n",
      "25        7.169732e+10\n",
      "26        7.218572e+10\n",
      "27        5.363014e+10\n",
      "28        5.755950e+10\n",
      "29        5.129286e+10\n",
      "              ...     \n",
      "434844    4.624183e+10\n",
      "434845    4.596785e+10\n",
      "434846    4.543148e+10\n",
      "434847    4.611583e+10\n",
      "434848    4.687831e+10\n",
      "434849    4.693466e+10\n",
      "434850    3.859756e+10\n",
      "434851    4.938696e+10\n",
      "434852    4.976734e+10\n",
      "434853    4.908588e+10\n",
      "434854    4.908637e+10\n",
      "434855    4.874646e+10\n",
      "434856    4.882945e+10\n",
      "434857    4.842486e+10\n",
      "434858    4.834149e+10\n",
      "434859    4.781972e+10\n",
      "434860    4.937736e+10\n",
      "434861    5.113918e+10\n",
      "434862    5.539046e+10\n",
      "434863    5.775224e+10\n",
      "434864    5.888325e+10\n",
      "434865    5.857100e+10\n",
      "434866    6.000187e+10\n",
      "434867    6.039867e+10\n",
      "434868    5.899396e+10\n",
      "434869    5.881614e+10\n",
      "434870    5.785595e+10\n",
      "434871    5.968380e+10\n",
      "434872    5.071551e+10\n",
      "434873    4.950473e+10\n",
      "Length: 434874, dtype: float64\n"
     ]
    }
   ],
   "source": [
    "y_pred=w0+w1*data[1]+w2*data[2]\n",
    "MSE=0\n",
    "m=x_test.count()[0]\n",
    "for i in range(0,m):\n",
    "    MSE=MSE+(y_pred-y_test[i])*(y_pred-y_test[i])\n",
    "print(MSE)"
   ]
  },
  {
   "cell_type": "code",
   "execution_count": null,
   "metadata": {},
   "outputs": [],
   "source": [
    "from sklearn.metrics import mean_squared_error\n",
    "mean_squared_error(y_test, y_pred)"
   ]
  },
  {
   "cell_type": "code",
   "execution_count": null,
   "metadata": {},
   "outputs": [],
   "source": []
  }
 ],
 "metadata": {
  "kernelspec": {
   "display_name": "Python 3",
   "language": "python",
   "name": "python3"
  },
  "language_info": {
   "codemirror_mode": {
    "name": "ipython",
    "version": 3
   },
   "file_extension": ".py",
   "mimetype": "text/x-python",
   "name": "python",
   "nbconvert_exporter": "python",
   "pygments_lexer": "ipython3",
   "version": "3.7.3"
  }
 },
 "nbformat": 4,
 "nbformat_minor": 2
}
